{
 "cells": [
  {
   "cell_type": "code",
   "execution_count": 1,
   "metadata": {},
   "outputs": [],
   "source": [
    "from tweepy.streaming import StreamListener\n",
    "from tweepy import OAuthHandler\n",
    "from tweepy import Stream\n",
    "from kafka import KafkaProducer\n",
    "\n",
    "producer = KafkaProducer(bootstrap_servers='localhost:9092') #Same port as your Kafka server"
   ]
  },
  {
   "cell_type": "code",
   "execution_count": 2,
   "metadata": {},
   "outputs": [],
   "source": [
    "access_token = \"3179843123-HiWOSWaAIszyhubJyH4tYHTirBmS06ZCbOWD4kj\"\n",
    "access_token_secret = \"KcKyLVFLPgXKdgQTGQiC8VmDsTK2ub4PEDaSHqv3zbMvR\"\n",
    "consumer_key = \"UK8WkNSjB9qKTrTDQFvwmcZ54\"\n",
    "consumer_secret = \"GXI5UcgWuKX84NDPnJA34v4V5Jcx4Z06rAzaZpV1oGhC8RMPVC\"\n",
    "\n",
    "topic_name = \"netflix\""
   ]
  },
  {
   "cell_type": "code",
   "execution_count": 3,
   "metadata": {},
   "outputs": [],
   "source": [
    "class twitterAuth():\n",
    "    \"\"\"SET UP TWITTER AUTHENTICATION\"\"\"\n",
    "\n",
    "    def authenticateTwitterApp(self):\n",
    "        auth = OAuthHandler(consumer_key, consumer_secret)\n",
    "        auth.set_access_token(access_token, access_token_secret)\n",
    "\n",
    "        return auth"
   ]
  },
  {
   "cell_type": "code",
   "execution_count": 4,
   "metadata": {},
   "outputs": [],
   "source": [
    "class TwitterStreamer():\n",
    "\n",
    "    \"\"\"SET UP STREAMER\"\"\"\n",
    "    def __init__(self):\n",
    "        self.twitterAuth = twitterAuth()\n",
    "\n",
    "    def stream_tweets(self):\n",
    "        while True:\n",
    "            listener = ListenerTS() \n",
    "            auth = self.twitterAuth.authenticateTwitterApp()\n",
    "            stream = Stream(auth, listener)\n",
    "            stream.filter(track=[\"Lupin\", \"Peaky Blinders\"], stall_warnings=True, languages= [\"en\"])"
   ]
  },
  {
   "cell_type": "code",
   "execution_count": 5,
   "metadata": {},
   "outputs": [],
   "source": [
    "class ListenerTS(StreamListener):\n",
    "\n",
    "    def on_data(self, raw_data):\n",
    "            producer.send(topic_name, str.encode(raw_data))\n",
    "            return True"
   ]
  },
  {
   "cell_type": "code",
   "execution_count": null,
   "metadata": {},
   "outputs": [],
   "source": [
    "TS = TwitterStreamer()\n",
    "TS.stream_tweets()"
   ]
  },
  {
   "cell_type": "code",
   "execution_count": null,
   "metadata": {},
   "outputs": [],
   "source": []
  }
 ],
 "metadata": {
  "kernelspec": {
   "display_name": "Python 3",
   "language": "python",
   "name": "python3"
  },
  "language_info": {
   "codemirror_mode": {
    "name": "ipython",
    "version": 3
   },
   "file_extension": ".py",
   "mimetype": "text/x-python",
   "name": "python",
   "nbconvert_exporter": "python",
   "pygments_lexer": "ipython3",
   "version": "3.9.0"
  }
 },
 "nbformat": 4,
 "nbformat_minor": 4
}
